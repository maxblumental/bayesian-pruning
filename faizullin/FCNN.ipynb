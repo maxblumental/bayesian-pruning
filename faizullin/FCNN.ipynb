{
 "cells": [
  {
   "cell_type": "markdown",
   "metadata": {},
   "source": [
    "# Glance to Bernoulli and Gaussian Dropouts"
   ]
  },
  {
   "cell_type": "code",
   "execution_count": 1,
   "metadata": {},
   "outputs": [],
   "source": [
    "import os\n",
    "import torch\n",
    "import torch.nn as nn\n",
    "from torch.autograd import Variable\n",
    "import torchvision.datasets as dset\n",
    "import torchvision.transforms as transforms\n",
    "import torch.nn.functional as F\n",
    "import torch.optim as optim\n",
    "import matplotlib.pyplot as plt\n",
    "import numpy as np\n",
    "import torch.distributions.normal as normal"
   ]
  },
  {
   "cell_type": "markdown",
   "metadata": {},
   "source": [
    "Choice of models can be made by `model = MaxBNet(p)` for Bernoullian dropout or `model = MaxGNet(si)` for Gaussian dropout"
   ]
  },
  {
   "cell_type": "markdown",
   "metadata": {},
   "source": [
    "Dropout rates:"
   ]
  },
  {
   "cell_type": "code",
   "execution_count": 2,
   "metadata": {},
   "outputs": [],
   "source": [
    "ps = np.array(np.arange(0.0, 1.0, 0.1))"
   ]
  },
  {
   "cell_type": "markdown",
   "metadata": {},
   "source": [
    "The main run with dropout rates.\n",
    "\n",
    "Variance for Gaussian dropout has this form:\n",
    "$$\n",
    "\\sigma^2 = \\frac{p}{1-p}\n",
    "$$"
   ]
  },
  {
   "cell_type": "code",
   "execution_count": 3,
   "metadata": {},
   "outputs": [
    {
     "name": "stdout",
     "output_type": "stream",
     "text": [
      "==>>> total trainning batch number: 600\n",
      "==>>> total testing batch number: 100\n"
     ]
    }
   ],
   "source": [
    "accs = np.array([])\n",
    "# load mnist dataset\n",
    "use_cuda = torch.cuda.is_available()\n",
    "\n",
    "root = './data'\n",
    "if not os.path.exists(root):\n",
    "    os.mkdir(root)\n",
    "    \n",
    "trans = transforms.Compose([transforms.ToTensor(), transforms.Normalize((0.5,), (1.0,))])\n",
    "# if not exist, download mnist dataset\n",
    "train_set = dset.MNIST(root=root, train=True, transform=trans, download=True)\n",
    "test_set = dset.MNIST(root=root, train=False, transform=trans, download=True)\n",
    "\n",
    "batch_size = 100\n",
    "\n",
    "train_loader = torch.utils.data.DataLoader(\n",
    "                 dataset=train_set,\n",
    "                 batch_size=batch_size,\n",
    "                 shuffle=True)\n",
    "test_loader = torch.utils.data.DataLoader(\n",
    "                dataset=test_set,\n",
    "                batch_size=batch_size,\n",
    "                shuffle=False)\n",
    "\n",
    "print ('==>>> total trainning batch number: {}'.format(len(train_loader)))\n",
    "print ('==>>> total testing batch number: {}'.format(len(test_loader)))\n",
    "\n",
    "## network\n",
    "###########################################################    \n",
    "class MaxBNet(nn.Module):\n",
    "    def __init__(self, p):\n",
    "        super(MaxNet, self).__init__()\n",
    "        self.p = p\n",
    "        self.fc1 = nn.Sequential(nn.Linear(28*28, 256), \n",
    "                                 nn.Dropout(p))\n",
    "                                 \n",
    "        self.fc2 = nn.Sequential(nn.Linear(256, 10), \n",
    "                                 nn.Dropout(p))\n",
    "\n",
    "    def forward(self, x):\n",
    "        x = x.view(-1, 28*28)\n",
    "        x = F.relu(self.fc1(x))\n",
    "        x = self.fc2(x)\n",
    "        return x    \n",
    "    \n",
    "    def name(self):\n",
    "        return \"MaxB\"\n",
    "###########################################################    \n",
    "class MaxGNet(nn.Module):\n",
    "    def __init__(self, si):\n",
    "        super(MaxGNet, self).__init__()\n",
    "        #self.mu = mu\n",
    "        self.si = si\n",
    "        self.fc1 = nn.Linear(28*28, 256)                                 \n",
    "        self.fc2 = nn.Linear(256, 10)\n",
    "        self.noise = normal.Normal(torch.tensor([1.]), torch.tensor([si]))\n",
    "        \n",
    "    def forward(self, x):\n",
    "        x = x.view(-1, 28*28)\n",
    "        x = self.fc1(x)\n",
    "        x = x*self.noise.sample()\n",
    "        x = F.relu(x)\n",
    "        x = self.fc2(x)\n",
    "        x = x*self.noise.sample()\n",
    "        return x    \n",
    "    \n",
    "    def name(self):\n",
    "        return \"MaxG\"\n",
    "###########################################################    \n",
    "for p in ps:\n",
    "    ## training\n",
    "    si = np.sqrt(p/(1-p))\n",
    "    #print('Dropout rate', p, si)\n",
    "    #model = MaxBNet(p)\n",
    "    model = MaxGNet(si)\n",
    "\n",
    "    if use_cuda:\n",
    "        model = model.cuda()\n",
    "\n",
    "    optimizer = optim.Adam(model.parameters(), lr=0.01)#, momentum=0.9)\n",
    "\n",
    "    criterion = nn.CrossEntropyLoss()\n",
    "\n",
    "    for epoch in range(1):\n",
    "        # trainning\n",
    "        ave_loss = 0\n",
    "        for batch_idx, (x, target) in enumerate(train_loader):\n",
    "            optimizer.zero_grad()\n",
    "            if use_cuda:\n",
    "                x, target = x.cuda(), target.cuda()\n",
    "            x, target = Variable(x), Variable(target)\n",
    "            out = model(x)\n",
    "            loss = criterion(out, target)\n",
    "            #ave_loss = ave_loss * 0.9 + loss.item() * 0.1\n",
    "            loss.backward()\n",
    "            optimizer.step()\n",
    "            #if (batch_idx+1) % 100 == 0 or (batch_idx+1) == len(train_loader):\n",
    "            #    print ('==>>> epoch: {}, batch index: {}'.format(\n",
    "            #        epoch, batch_idx+1))\n",
    "\n",
    "    # computation of accuracy    \n",
    "    ress = np.array([])\n",
    "    for batch_idx, (x, target) in enumerate(test_loader):\n",
    "        #if use_cuda:\n",
    "        #    x, target = x.cuda(), target.cuda()\n",
    "        with torch.no_grad():\n",
    "            x, target = Variable(x), Variable(target)\n",
    "        #x, target = Variable(x, volatile=True), Variable(target, volatile=True)    \n",
    "        out = model(x)\n",
    "        #break    \n",
    "        res = np.array([])\n",
    "        for i in range(batch_size):\n",
    "            a = out.detach().numpy()[i]\n",
    "            res = np.append(res, np.where(a==np.max(a))[0][0])\n",
    "        b = target.detach().numpy()\n",
    "        ress = np.append(ress, np.where((res-b).astype(bool)==True)[0].shape[0])\n",
    "    acc = 1.0 - np.mean(ress)/100.0    \n",
    "    accs = np.append(accs, acc)\n",
    "    #print('Accuracy', acc)\n",
    "    #print('=================')"
   ]
  },
  {
   "cell_type": "markdown",
   "metadata": {},
   "source": [
    "## Accuracy vs. dropout rate"
   ]
  },
  {
   "cell_type": "code",
   "execution_count": 4,
   "metadata": {},
   "outputs": [
    {
     "data": {
      "text/plain": [
       "<matplotlib.legend.Legend at 0x119c242e8>"
      ]
     },
     "execution_count": 4,
     "metadata": {},
     "output_type": "execute_result"
    },
    {
     "data": {
      "image/png": "[encoded data removed]",
      "text/plain": [
       "<Figure size 432x288 with 1 Axes>"
      ]
     },
     "metadata": {},
     "output_type": "display_data"
    }
   ],
   "source": [
    "d = np.load('5epoch.npy')\n",
    "plt.figure(figsize=(6,4))\n",
    "color = 'orange'\n",
    "plt.plot(ps, d[0], 'o-', label='Bernoullian')\n",
    "#for data in d[1:]:\n",
    "plt.plot(ps, d[1], 'o--', color=color, label='Gaussians')\n",
    "plt.plot(ps, d[2], 'o--', color=color)\n",
    "plt.plot(ps, d[3], 'o--', color=color)\n",
    "plt.plot(ps, accs, 'o--', color=color)\n",
    "plt.axhline(y=0.1, color='r', linestyle='-')\n",
    "plt.ylim(0,1)\n",
    "plt.xlabel(r'p')\n",
    "plt.ylabel('Accuracy')\n",
    "#plt.title('Accuracy vs. dropout rate')\n",
    "plt.legend()"
   ]
  }
 ],
 "metadata": {
  "kernelspec": {
   "display_name": "Python 3",
   "language": "python",
   "name": "python3"
  },
  "language_info": {
   "codemirror_mode": {
    "name": "ipython",
    "version": 3
   },
   "file_extension": ".py",
   "mimetype": "text/x-python",
   "name": "python",
   "nbconvert_exporter": "python",
   "pygments_lexer": "ipython3",
   "version": "3.6.5"
  }
 },
 "nbformat": 4,
 "nbformat_minor": 2
}
